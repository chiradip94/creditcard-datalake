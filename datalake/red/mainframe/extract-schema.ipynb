{
 "cells": [
  {
   "cell_type": "code",
   "execution_count": 1,
   "metadata": {
    "application/vnd.databricks.v1+cell": {
     "cellMetadata": {
      "byteLimit": 2048000,
      "rowLimit": 10000
     },
     "inputWidgets": {},
     "nuid": "8cc27dc8-c05c-44e9-9d61-a4a51ef08325",
     "showTitle": false,
     "title": ""
    }
   },
   "outputs": [],
   "source": [
    "import json\n",
    "from pyspark.sql import SparkSession\n",
    "from pyspark.sql.types import *"
   ]
  },
  {
   "cell_type": "code",
   "execution_count": 2,
   "metadata": {
    "application/vnd.databricks.v1+cell": {
     "cellMetadata": {
      "byteLimit": 2048000,
      "rowLimit": 10000
     },
     "inputWidgets": {},
     "nuid": "30b5a6dd-95d7-439e-b0ea-e050f5bed822",
     "showTitle": false,
     "title": ""
    }
   },
   "outputs": [
    {
     "name": "stderr",
     "output_type": "stream",
     "text": [
      "24/03/31 12:00:25 WARN SparkSession: Using an existing Spark session; only runtime SQL configurations will take effect.\n"
     ]
    }
   ],
   "source": [
    "spark = SparkSession.builder.appName(\"Extract Schema\").getOrCreate()"
   ]
  },
  {
   "cell_type": "code",
   "execution_count": 3,
   "metadata": {},
   "outputs": [],
   "source": [
    "%store -r params"
   ]
  },
  {
   "cell_type": "code",
   "execution_count": 4,
   "metadata": {
    "application/vnd.databricks.v1+cell": {
     "cellMetadata": {
      "byteLimit": 2048000,
      "rowLimit": 10000
     },
     "inputWidgets": {},
     "nuid": "df453089-bf7d-4fb6-a100-e63a67a85079",
     "showTitle": false,
     "title": ""
    }
   },
   "outputs": [
    {
     "name": "stderr",
     "output_type": "stream",
     "text": [
      "                                                                                \r"
     ]
    }
   ],
   "source": [
    "df = spark.read.option(\"header\", True).option(\"inferSchema\", True).csv(f\"file://{params['credit_card_file']}\")"
   ]
  },
  {
   "cell_type": "code",
   "execution_count": 5,
   "metadata": {
    "application/vnd.databricks.v1+cell": {
     "cellMetadata": {
      "byteLimit": 2048000,
      "rowLimit": 10000
     },
     "inputWidgets": {},
     "nuid": "caadea5a-3cbc-40a4-834c-1bb5e351c29a",
     "showTitle": false,
     "title": ""
    }
   },
   "outputs": [],
   "source": [
    "def get_avro_schema(spark_schema, schema_type:str, name:str):\n",
    "    schema_base = {\n",
    "    \"type\": schema_type,\n",
    "    \"name\": name\n",
    "    }\n",
    "    \n",
    "    # Keys are Spark Types, Values are Avro Types\n",
    "    avro_mapping = {\n",
    "        'StringType()' : [\"string\", \"null\"],\n",
    "        'LongType()' : [\"long\", \"null\"],\n",
    "        'IntegerType()' :  [\"int\", \"null\"],\n",
    "        'BooleanType()' : [\"boolean\", \"null\"],\n",
    "        'FloatType()' : [\"float\", \"null\"],\n",
    "        'DoubleType()': [\"double\", \"null\"],\n",
    "        'TimestampType()' : [\"long\", \"null\"],\n",
    "        'ArrayType(StringType,true)' : [{\"type\": \"array\", \"items\": [\"string\", \"null\"]}, \"null\"],\n",
    "        'ArrayType(IntegerType,true)' : [{\"type\": \"array\", \"items\": [\"int\", \"null\"]}, \"null\"],\n",
    "        'default': [\"string\", \"null\"]\n",
    "        }\n",
    "    \n",
    "    fields = []\n",
    "    \n",
    "    for field in spark_schema.fields:\n",
    "        if (str(field.dataType) in avro_mapping):\n",
    "            fields.append({\"name\" : field.name, \"type\": avro_mapping[str(field.dataType)]})\n",
    "        else:\n",
    "            fields.append({\"name\" : field.name, \"type\": avro_mapping['default']})\n",
    "            \n",
    "    schema_base[\"fields\"] = fields\n",
    "    \n",
    "    return schema_base"
   ]
  },
  {
   "cell_type": "code",
   "execution_count": 6,
   "metadata": {
    "application/vnd.databricks.v1+cell": {
     "cellMetadata": {
      "byteLimit": 2048000,
      "rowLimit": 10000
     },
     "inputWidgets": {},
     "nuid": "7989fcf4-97ea-483c-b152-be41007fe715",
     "showTitle": false,
     "title": ""
    }
   },
   "outputs": [],
   "source": [
    "#write the schema\n",
    "with open(params[\"spark_schema_file\"], \"w\") as f:\n",
    "    json.dump(df.schema.jsonValue(), f)\n",
    "f.close()\n",
    "\n",
    "with open(params[\"avro_schema_file\"], \"w\") as f:\n",
    "    json.dump(get_avro_schema(df.schema, \"record\", \"creditcard\"), f)\n",
    "f.close()"
   ]
  },
  {
   "cell_type": "code",
   "execution_count": 8,
   "metadata": {
    "application/vnd.databricks.v1+cell": {
     "cellMetadata": {
      "byteLimit": 2048000,
      "rowLimit": 10000
     },
     "inputWidgets": {},
     "nuid": "9a0211d4-0c19-43db-9213-0ee6367ba6fd",
     "showTitle": false,
     "title": ""
    }
   },
   "outputs": [
    {
     "name": "stdout",
     "output_type": "stream",
     "text": [
      "StructType([StructField('id', IntegerType(), True), StructField('trans_date_trans_time', TimestampType(), True), StructField('cc_num', LongType(), True), StructField('merchant', StringType(), True), StructField('category', StringType(), True), StructField('amt', DoubleType(), True), StructField('first', StringType(), True), StructField('last', StringType(), True), StructField('gender', StringType(), True), StructField('street', StringType(), True), StructField('city', StringType(), True), StructField('state', StringType(), True), StructField('zip', IntegerType(), True), StructField('lat', DoubleType(), True), StructField('long', DoubleType(), True), StructField('city_pop', IntegerType(), True), StructField('job', StringType(), True), StructField('dob', DateType(), True), StructField('trans_num', StringType(), True), StructField('unix_time', IntegerType(), True), StructField('merch_lat', DoubleType(), True), StructField('merch_long', DoubleType(), True), StructField('is_fraud', IntegerType(), True)])\n"
     ]
    }
   ],
   "source": [
    "#read the schema file to verify\n",
    "with open(params[\"spark_schema_file\"]) as f:\n",
    "    new_schema = StructType.fromJson(json.load(f))\n",
    "    print(new_schema)"
   ]
  },
  {
   "cell_type": "code",
   "execution_count": null,
   "metadata": {
    "application/vnd.databricks.v1+cell": {
     "cellMetadata": {
      "byteLimit": 2048000,
      "rowLimit": 10000
     },
     "inputWidgets": {},
     "nuid": "0e3d697a-6018-44ef-b300-2cdc1f66e01f",
     "showTitle": false,
     "title": ""
    }
   },
   "outputs": [],
   "source": []
  }
 ],
 "metadata": {
  "application/vnd.databricks.v1+notebook": {
   "dashboards": [],
   "language": "python",
   "notebookMetadata": {
    "mostRecentlyExecutedCommandWithImplicitDF": {
     "commandId": 2638919182251896,
     "dataframes": [
      "_sqldf"
     ]
    },
    "pythonIndentUnit": 4
   },
   "notebookName": "extract-schema",
   "widgets": {}
  },
  "kernelspec": {
   "display_name": ".venv",
   "language": "python",
   "name": ".venv"
  },
  "language_info": {
   "codemirror_mode": {
    "name": "ipython",
    "version": 3
   },
   "file_extension": ".py",
   "mimetype": "text/x-python",
   "name": "python",
   "nbconvert_exporter": "python",
   "pygments_lexer": "ipython3",
   "version": "3.11.3"
  }
 },
 "nbformat": 4,
 "nbformat_minor": 4
}

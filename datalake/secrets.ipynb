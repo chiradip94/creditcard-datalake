{
 "cells": [
  {
   "cell_type": "code",
   "execution_count": 1,
   "metadata": {
    "application/vnd.databricks.v1+cell": {
     "cellMetadata": {
      "byteLimit": 2048000,
      "rowLimit": 10000
     },
     "inputWidgets": {},
     "nuid": "95e70226-3085-4ee9-8d0a-e4fa2aee0a19",
     "showTitle": false,
     "title": ""
    }
   },
   "outputs": [],
   "source": [
    "secrets = {}"
   ]
  },
  {
   "cell_type": "code",
   "execution_count": 2,
   "metadata": {
    "application/vnd.databricks.v1+cell": {
     "cellMetadata": {
      "byteLimit": 2048000,
      "rowLimit": 10000
     },
     "inputWidgets": {},
     "nuid": "bef62bc0-783f-4ff6-be73-c7fa833720f9",
     "showTitle": false,
     "title": ""
    }
   },
   "outputs": [],
   "source": [
    "#red kafka\n",
    "secrets[\"RED_KAFKA_SERVERS\"] = \"\"\n",
    "secrets[\"RED_KAFKA_USERNAME\"] = \"\"\n",
    "secrets[\"RED_KAFKA_PASSWORD\"] = \"\""
   ]
  },
  {
   "cell_type": "code",
   "execution_count": 3,
   "metadata": {
    "application/vnd.databricks.v1+cell": {
     "cellMetadata": {},
     "inputWidgets": {},
     "nuid": "707cf3e6-996d-4e7a-815b-64987a438df2",
     "showTitle": false,
     "title": ""
    }
   },
   "outputs": [],
   "source": [
    "#green kafka\n",
    "secrets[\"GREEN_KAFKA_SERVERS\"] = \"\"\n",
    "secrets[\"GREEN_KAFKA_USERNAME\"] = \"\"\n",
    "secrets[\"GREEN_KAFKA_PASSWORD\"] = \"\""
   ]
  },
  {
   "cell_type": "code",
   "execution_count": 4,
   "metadata": {},
   "outputs": [
    {
     "name": "stdout",
     "output_type": "stream",
     "text": [
      "Stored 'secrets' (dict)\n"
     ]
    }
   ],
   "source": [
    "%store secrets"
   ]
  },
  {
   "cell_type": "code",
   "execution_count": null,
   "metadata": {},
   "outputs": [],
   "source": []
  }
 ],
 "metadata": {
  "application/vnd.databricks.v1+notebook": {
   "dashboards": [],
   "language": "python",
   "notebookMetadata": {
    "pythonIndentUnit": 4
   },
   "notebookName": "secrets",
   "widgets": {}
  },
  "kernelspec": {
   "display_name": "Python 3 (ipykernel)",
   "language": "python",
   "name": "python3"
  },
  "language_info": {
   "codemirror_mode": {
    "name": "ipython",
    "version": 3
   },
   "file_extension": ".py",
   "mimetype": "text/x-python",
   "name": "python",
   "nbconvert_exporter": "python",
   "pygments_lexer": "ipython3",
   "version": "3.11.3"
  }
 },
 "nbformat": 4,
 "nbformat_minor": 4
}

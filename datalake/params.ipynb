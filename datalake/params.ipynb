{
 "cells": [
  {
   "cell_type": "code",
   "execution_count": 1,
   "id": "15f5ac3c-b809-4989-b314-60bed75b033d",
   "metadata": {},
   "outputs": [],
   "source": [
    "params = {}"
   ]
  },
  {
   "cell_type": "code",
   "execution_count": 2,
   "id": "ce4a4522-d213-4a06-bc7a-653468fce5d5",
   "metadata": {},
   "outputs": [],
   "source": [
    "base_exec_dir = \"/Users/xyz/datalake/exec\""
   ]
  },
  {
   "cell_type": "code",
   "execution_count": 3,
   "id": "e62da2ac-a0a3-4cca-aebc-bcbbe705e09c",
   "metadata": {},
   "outputs": [],
   "source": [
    "schema_dir = f\"{base_exec_dir}/schemas\"\n",
    "params[\"credit_card_file\"]=\"/Users/xyz/datalake/red/mainframe/credit_card.csv\"\n",
    "params[\"spark_schema_file\"]=f\"{schema_dir}/schema.json\"\n",
    "params[\"avro_schema_file\"]=f\"{schema_dir}/schema.avsc\"\n",
    "params[\"mainframe_landing\"]=f\"{base_exec_dir}/red/mainframe/landing\"\n",
    "params[\"apply_archive\"]=f\"{base_exec_dir}/red/apply_archive\""
   ]
  },
  {
   "cell_type": "code",
   "execution_count": 8,
   "id": "7de4441d-baee-4a32-a157-0010248de65f",
   "metadata": {},
   "outputs": [],
   "source": [
    "base_checkpoint = f\"{base_exec_dir}/checkpoints\"\n",
    "params[\"checkpoints\"] = {}\n",
    "params[\"checkpoints\"][\"apply_write\"] = f\"{base_checkpoint}/red/apply_kafka_write\"\n",
    "params[\"checkpoints\"][\"tokenization_read\"] = f\"{base_checkpoint}/red/tokenization_kafka_read\"\n",
    "params[\"checkpoints\"][\"tokenization_write\"] = f\"{base_checkpoint}/red/tokenization_kafka_write\"\n",
    "params[\"checkpoints\"][\"ingestion_read\"] = f\"{base_checkpoint}/green/ingestion_kafka_read\"\n",
    "params[\"checkpoints\"][\"ingestion_write\"] = f\"{base_checkpoint}/green/ingestion_kafka_write\""
   ]
  },
  {
   "cell_type": "code",
   "execution_count": 5,
   "id": "d37e7b9d-b082-44b2-a986-62a68a274f1c",
   "metadata": {},
   "outputs": [],
   "source": [
    "params[\"topic\"] = {}\n",
    "params[\"topic\"][\"red_landing\"] = \"landing\"\n",
    "params[\"topic\"][\"green_landing\"] = \"landing\""
   ]
  },
  {
   "cell_type": "code",
   "execution_count": 9,
   "id": "1cd0b9b0-69ac-44cb-b660-b8358fefcd17",
   "metadata": {},
   "outputs": [
    {
     "name": "stdout",
     "output_type": "stream",
     "text": [
      "Stored 'params' (dict)\n"
     ]
    }
   ],
   "source": [
    "%store params"
   ]
  },
  {
   "cell_type": "code",
   "execution_count": 7,
   "id": "2a3f1d2a-0267-4ce3-a995-02b77b57cfac",
   "metadata": {},
   "outputs": [],
   "source": [
    "import os\n",
    "os.makedirs(schema_dir, exist_ok=True)\n",
    "os.makedirs(base_checkpoint, exist_ok=True)\n",
    "os.makedirs(params[\"checkpoints\"][\"apply_write\"], exist_ok=True)\n",
    "os.makedirs(params[\"mainframe_landing\"], exist_ok=True)"
   ]
  },
  {
   "cell_type": "code",
   "execution_count": null,
   "id": "a9ad79f4-de72-4035-9f2a-82bb7495517a",
   "metadata": {},
   "outputs": [],
   "source": []
  }
 ],
 "metadata": {
  "kernelspec": {
   "display_name": ".venv",
   "language": "python",
   "name": ".venv"
  },
  "language_info": {
   "codemirror_mode": {
    "name": "ipython",
    "version": 3
   },
   "file_extension": ".py",
   "mimetype": "text/x-python",
   "name": "python",
   "nbconvert_exporter": "python",
   "pygments_lexer": "ipython3",
   "version": "3.11.3"
  }
 },
 "nbformat": 4,
 "nbformat_minor": 5
}

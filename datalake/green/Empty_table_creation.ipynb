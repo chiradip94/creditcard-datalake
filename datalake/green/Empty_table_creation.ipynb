{
 "cells": [
  {
   "cell_type": "code",
   "execution_count": 1,
   "id": "b262fce2-bba7-4a69-88b2-08c3e5c47389",
   "metadata": {},
   "outputs": [],
   "source": [
    "from pyspark.sql import SparkSession"
   ]
  },
  {
   "cell_type": "code",
   "execution_count": 2,
   "id": "8e930b79-f890-4df9-b6eb-b21a467558e5",
   "metadata": {},
   "outputs": [
    {
     "name": "stderr",
     "output_type": "stream",
     "text": [
      "24/03/31 13:54:30 WARN SparkSession: Using an existing Spark session; only runtime SQL configurations will take effect.\n"
     ]
    }
   ],
   "source": [
    "spark = SparkSession.builder.appName(\"Empty Table Creation\").getOrCreate()"
   ]
  },
  {
   "cell_type": "code",
   "execution_count": 3,
   "id": "96c34714-4aeb-478e-8d01-8c1437f019c5",
   "metadata": {},
   "outputs": [
    {
     "name": "stderr",
     "output_type": "stream",
     "text": [
      "24/03/31 13:55:53 WARN HiveConf: HiveConf of name hive.stats.jdbc.timeout does not exist\n",
      "24/03/31 13:55:53 WARN HiveConf: HiveConf of name hive.stats.retries.wait does not exist\n",
      "24/03/31 13:56:00 WARN ObjectStore: Version information not found in metastore. hive.metastore.schema.verification is not enabled so recording the schema version 2.3.0\n",
      "24/03/31 13:56:00 WARN ObjectStore: setMetaStoreSchemaVersion called but recording version is disabled: version = 2.3.0, comment = Set by MetaStore chiradip@192.168.29.140\n",
      "24/03/31 13:56:00 WARN ObjectStore: Failed to get database default, returning NoSuchObjectException\n",
      "24/03/31 13:56:00 WARN ObjectStore: Failed to get database creditcard_prod, returning NoSuchObjectException\n",
      "24/03/31 13:56:00 WARN ObjectStore: Failed to get database creditcard_prod, returning NoSuchObjectException\n",
      "24/03/31 13:56:00 WARN ObjectStore: Failed to get database global_temp, returning NoSuchObjectException\n",
      "24/03/31 13:56:00 WARN ObjectStore: Failed to get database creditcard_prod, returning NoSuchObjectException\n"
     ]
    },
    {
     "data": {
      "text/plain": [
       "DataFrame[]"
      ]
     },
     "execution_count": 3,
     "metadata": {},
     "output_type": "execute_result"
    }
   ],
   "source": [
    "spark.sql(\"CREATE DATABASE IF NOT EXISTS creditcard_prod\")"
   ]
  },
  {
   "cell_type": "code",
   "execution_count": 5,
   "id": "701257ab-b78c-4fd7-8492-09d38ef2703e",
   "metadata": {},
   "outputs": [
    {
     "name": "stdout",
     "output_type": "stream",
     "text": [
      "+---------------+\n",
      "|      namespace|\n",
      "+---------------+\n",
      "|creditcard_prod|\n",
      "|        default|\n",
      "+---------------+\n",
      "\n"
     ]
    }
   ],
   "source": [
    "spark.sql(\"show databases\").show()"
   ]
  },
  {
   "cell_type": "code",
   "execution_count": 6,
   "id": "4b509b2a-2fe9-4ca1-8507-64e38a0b2f61",
   "metadata": {},
   "outputs": [
    {
     "name": "stderr",
     "output_type": "stream",
     "text": [
      "24/03/31 13:59:01 WARN ResolveSessionCatalog: A Hive serde table will be created as there is no table provider specified. You can set spark.sql.legacy.createHiveTableByDefault to false so that native data source table will be created instead.\n",
      "24/03/31 13:59:01 WARN SessionState: METASTORE_FILTER_HOOK will be ignored, since hive.security.authorization.manager is set to instance of HiveAuthorizerFactory.\n",
      "24/03/31 13:59:01 WARN HiveConf: HiveConf of name hive.internal.ss.authz.settings.applied.marker does not exist\n",
      "24/03/31 13:59:01 WARN HiveConf: HiveConf of name hive.stats.jdbc.timeout does not exist\n",
      "24/03/31 13:59:01 WARN HiveConf: HiveConf of name hive.stats.retries.wait does not exist\n",
      "24/03/31 13:59:01 WARN HiveMetaStore: Location: file:/Users/chiradip/Documents/learn/credit-card/datalake/green/spark-warehouse/creditcard_prod.db/card_details_raw specified for non-external table:card_details_raw\n"
     ]
    },
    {
     "name": "stdout",
     "output_type": "stream",
     "text": [
      "++\n",
      "||\n",
      "++\n",
      "++\n",
      "\n"
     ]
    }
   ],
   "source": [
    "create_table_query = \"\"\"\n",
    "CREATE TABLE IF NOT EXISTS creditcard_prod.card_details_raw (\n",
    "  key BINARY,\n",
    "  value STRUCT<id: INT, trans_date_trans_time: BIGINT, cc_num: BIGINT, merchant: STRING, category: STRING, amt: DOUBLE, first: STRING, last: STRING, gender: STRING, street: STRING, city: STRING, state: STRING, zip: INT, lat: DOUBLE, long: DOUBLE, city_pop: INT, job: STRING, dob: STRING, trans_num: STRING, unix_time: INT, merch_lat: DOUBLE, merch_long: DOUBLE, is_fraud: INT>,\n",
    "  topic STRING,\n",
    "  partition INT,\n",
    "  offset BIGINT,\n",
    "  timestamp TIMESTAMP,\n",
    "  timestampType INT)\n",
    "\"\"\"\n",
    "spark.sql(create_table_query).show()"
   ]
  },
  {
   "cell_type": "code",
   "execution_count": null,
   "id": "c12b6d95-45aa-42e0-ac0f-849c580824d0",
   "metadata": {},
   "outputs": [],
   "source": []
  }
 ],
 "metadata": {
  "kernelspec": {
   "display_name": "Python 3 (ipykernel)",
   "language": "python",
   "name": "python3"
  },
  "language_info": {
   "codemirror_mode": {
    "name": "ipython",
    "version": 3
   },
   "file_extension": ".py",
   "mimetype": "text/x-python",
   "name": "python",
   "nbconvert_exporter": "python",
   "pygments_lexer": "ipython3",
   "version": "3.11.3"
  }
 },
 "nbformat": 4,
 "nbformat_minor": 5
}
